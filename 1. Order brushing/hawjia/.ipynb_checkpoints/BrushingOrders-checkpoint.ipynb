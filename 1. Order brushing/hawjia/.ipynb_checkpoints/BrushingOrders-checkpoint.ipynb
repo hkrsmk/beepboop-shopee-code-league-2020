{
 "cells": [
  {
   "cell_type": "code",
   "execution_count": null,
   "metadata": {},
   "outputs": [],
   "source": [
    "import numpy as np\n",
    "import pandas"
   ]
  },
  {
   "cell_type": "code",
   "execution_count": null,
   "metadata": {},
   "outputs": [],
   "source": [
    "pandas.read_csv('../data/order_brush_order.csv')"
   ]
  }
 ],
 "metadata": {
  "kernelspec": {
   "display_name": "ShopeeCodeLeage",
   "language": "python",
   "name": "shopeecodeleage"
  },
  "language_info": {
   "codemirror_mode": {
    "name": "ipython",
    "version": 3
   },
   "file_extension": ".py",
   "mimetype": "text/x-python",
   "name": "python",
   "nbconvert_exporter": "python",
   "pygments_lexer": "ipython3",
   "version": "3.8.1"
  }
 },
 "nbformat": 4,
 "nbformat_minor": 4
}
